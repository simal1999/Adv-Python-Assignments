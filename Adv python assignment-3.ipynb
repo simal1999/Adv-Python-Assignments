{
 "cells": [
  {
   "cell_type": "markdown",
   "metadata": {},
   "source": [
    "1.What is the concept of an abstract superclass?\n",
    "\n",
    "Ans:                                                   \n",
    "A commom superclass for all subclasses, it acts as a blueprint to define other classes."
   ]
  },
  {
   "cell_type": "markdown",
   "metadata": {},
   "source": [
    "2.What happens when a class statement's top level contains a basic assignment statement?\n",
    "\n",
    "Ans:                                                           \n",
    "The assignment statement assigns resulting objects to target lists from left to right."
   ]
  },
  {
   "cell_type": "markdown",
   "metadata": {},
   "source": [
    "3.Why does a class need to manually call a superclass's __init__ method?\n",
    "\n",
    "Ans:                                               \n",
    "The base class must ADD processes for init method to be called manually."
   ]
  },
  {
   "cell_type": "markdown",
   "metadata": {},
   "source": [
    "4.How can you augment, instead of completely replacing, an inherited method?\n",
    "\n",
    "Ans:                                                                \n",
    "A subclass can either completely override the implementation for an inherited method or the subclass can enhance the method by adding functionality to it."
   ]
  },
  {
   "cell_type": "markdown",
   "metadata": {},
   "source": [
    "5.How is the local scope of a class different from that of a function?\n",
    "\n",
    "Ans:                                     \n",
    "1.Local scope occurs when we create a variable inside a function.                                      \n",
    "2.By doing that the visibility and accessibility of the variable is only allowed within that function.                  \n",
    "3.Any variable created inside that is a local variable.  "
   ]
  },
  {
   "cell_type": "code",
   "execution_count": null,
   "metadata": {},
   "outputs": [],
   "source": []
  }
 ],
 "metadata": {
  "kernelspec": {
   "display_name": "Python 3",
   "language": "python",
   "name": "python3"
  },
  "language_info": {
   "codemirror_mode": {
    "name": "ipython",
    "version": 3
   },
   "file_extension": ".py",
   "mimetype": "text/x-python",
   "name": "python",
   "nbconvert_exporter": "python",
   "pygments_lexer": "ipython3",
   "version": "3.8.3"
  }
 },
 "nbformat": 4,
 "nbformat_minor": 4
}
